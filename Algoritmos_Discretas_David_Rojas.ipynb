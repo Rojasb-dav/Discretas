{
  "nbformat": 4,
  "nbformat_minor": 0,
  "metadata": {
    "colab": {
      "provenance": [],
      "authorship_tag": "ABX9TyNE21B57DBT6++MR2aCJHFd",
      "include_colab_link": true
    },
    "kernelspec": {
      "name": "python3",
      "display_name": "Python 3"
    },
    "language_info": {
      "name": "python"
    }
  },
  "cells": [
    {
      "cell_type": "markdown",
      "metadata": {
        "id": "view-in-github",
        "colab_type": "text"
      },
      "source": [
        "<a href=\"https://colab.research.google.com/github/Rojasb-dav/Discretas/blob/main/Algoritmos_Discretas_David_Rojas.ipynb\" target=\"_parent\"><img src=\"https://colab.research.google.com/assets/colab-badge.svg\" alt=\"Open In Colab\"/></a>"
      ]
    },
    {
      "cell_type": "markdown",
      "source": [
        "# ***Algoritmo de Fleury***"
      ],
      "metadata": {
        "id": "s2lHfxsWpRah"
      }
    },
    {
      "cell_type": "code",
      "execution_count": null,
      "metadata": {
        "id": "tjeiWp51dShV"
      },
      "outputs": [],
      "source": [
        "import networkx as nx\n",
        "import matplotlib.pyplot as plt\n",
        "import random\n",
        "\n",
        "def algoritmo_fleury(graph):\n",
        "    graph = graph.copy()\n",
        "\n",
        "    if not nx.is_eulerian(graph):\n",
        "        print(\"El grafo no es euleriano.\")\n",
        "        return []\n",
        "\n",
        "    start_node = random.choice(list(graph.nodes()))\n",
        "\n",
        "    eulerian_path = [start_node]\n",
        "\n",
        "    while graph.number_of_edges() > 0:\n",
        "        current_node = eulerian_path[-1]\n",
        "        neighbors = list(graph.neighbors(current_node))\n",
        "\n",
        "        if len(neighbors) == 1:\n",
        "            next_node = neighbors[0]\n",
        "        else:\n",
        "            next_node = None\n",
        "            for neighbor in neighbors:\n",
        "                if not is_bridge(graph, current_node, neighbor):\n",
        "                    next_node = neighbor\n",
        "                    break\n",
        "\n",
        "            if next_node is None:\n",
        "                next_node = random.choice(neighbors)\n",
        "\n",
        "        graph.remove_edge(current_node, next_node)\n",
        "\n",
        "        eulerian_path.append(next_node)\n",
        "\n",
        "    return eulerian_path\n",
        "\n",
        "def is_bridge(graph, node1, node2):\n",
        "    graph.remove_edge(node1, node2)\n",
        "    connected_components = nx.number_connected_components(graph)\n",
        "    graph.add_edge(node1, node2)\n",
        "\n",
        "    return connected_components > 1\n",
        "\n",
        "G = nx.Graph()\n",
        "G.add_edges_from([(0, 1), (0, 2), (1, 2), (2, 3), (2, 4), (3, 4)])\n",
        "\n",
        "path = algoritmo_fleury(G)\n",
        "print(\"Camino Euleriano:\", path)\n",
        "\n",
        "pos = nx.spring_layout(G)\n",
        "nx.draw(G, pos, with_labels=True, node_color='lightblue')\n",
        "path_edges = list(zip(path[:-1], path[1:]))\n",
        "nx.draw_networkx_edges(G, pos, edgelist=path_edges, edge_color='red', width=2)\n",
        "plt.show()\n"
      ]
    },
    {
      "cell_type": "markdown",
      "source": [
        "# ***Algoritmo de Dijkstra***"
      ],
      "metadata": {
        "id": "D8wq-XJmpYBe"
      }
    },
    {
      "cell_type": "code",
      "source": [
        "import networkx as nx\n",
        "import matplotlib.pyplot as plt\n",
        "import math\n",
        "\n",
        "def algoritmo_dijkstra(graph, start_node):\n",
        "    graph = graph.copy()\n",
        "\n",
        "    distancia = {node: math.inf for node in graph.nodes()}\n",
        "    distancia[start_node] = 0\n",
        "\n",
        "    visited = set()\n",
        "\n",
        "    while len(visited) < len(graph.nodes()):\n",
        "        min_distancia = math.inf\n",
        "        min_node = None\n",
        "\n",
        "        for node in graph.nodes():\n",
        "            if node not in visited and distancia[node] < min_distancia:\n",
        "                min_distancia = distancia[node]\n",
        "                min_node = node\n",
        "\n",
        "        if min_node is None:\n",
        "            break\n",
        "\n",
        "        visited.add(min_node)\n",
        "\n",
        "        for neighbor in graph.neighbors(min_node):\n",
        "            if neighbor not in visited:\n",
        "                edge_weight = graph.edges[min_node, neighbor]['weight']\n",
        "                new_distancia = distancia[min_node] + edge_weight\n",
        "                if new_distancia < distancia[neighbor]:\n",
        "                    distancia[neighbor] = new_distancia\n",
        "\n",
        "    return distancia\n",
        "\n",
        "G = nx.Graph()\n",
        "G.add_edges_from([(0, 1, {'weight': 4}), (0, 2, {'weight': 1}), (1, 2, {'weight': 2}), (1, 3, {'weight': 5}),\n",
        "                  (2, 3, {'weight': 1}), (2, 4, {'weight': 3}), (3, 4, {'weight': 2})])\n",
        "\n",
        "start_node = 0\n",
        "new_distancia = algoritmo_dijkstra(G, start_node)\n",
        "print(\"Distancias más cortas desde el nodo de inicio (\", start_node, \"):\", new_distancia)\n",
        "\n",
        "pos = nx.spring_layout(G)\n",
        "nx.draw(G, pos, with_labels=True, node_color='lightblue')\n",
        "labels = nx.get_edge_attributes(G, 'weight')\n",
        "nx.draw_networkx_edge_labels(G, pos, edge_labels=labels)\n",
        "plt.show()"
      ],
      "metadata": {
        "id": "mm9fOehWfMID"
      },
      "execution_count": null,
      "outputs": []
    },
    {
      "cell_type": "markdown",
      "source": [
        "# ***Algoritmo de coloreado de grafos***"
      ],
      "metadata": {
        "id": "U8xX90TEpc0G"
      }
    },
    {
      "cell_type": "code",
      "source": [
        "import networkx as nx\n",
        "import matplotlib.pyplot as plt\n",
        "\n",
        "def coloreo_grafo(graph):\n",
        "    graph = graph.copy()\n",
        "\n",
        "    colors = {}\n",
        "\n",
        "    for node in graph.nodes():\n",
        "        neighbor_colors = set(colors.get(neighbor) for neighbor in graph.neighbors(node))\n",
        "\n",
        "        for color in range(len(graph.nodes())):\n",
        "            if color not in neighbor_colors:\n",
        "                colors[node] = color\n",
        "                break\n",
        "\n",
        "    return colors\n",
        "\n",
        "G = nx.Graph()\n",
        "G.add_edges_from([(0, 1), (0, 2), (1, 2), (2, 3), (2, 4), (3, 4)])\n",
        "\n",
        "coloring = coloreo_grafo(G)\n",
        "print(\"Colores asignados a los nodos:\", coloring)\n",
        "\n",
        "pos = nx.spring_layout(G)\n",
        "nx.draw(G, pos, with_labels=True, node_color=[coloring[node] for node in G.nodes()], cmap='Set3')\n",
        "plt.show()"
      ],
      "metadata": {
        "id": "lLDVi3s_hD8W"
      },
      "execution_count": null,
      "outputs": []
    },
    {
      "cell_type": "markdown",
      "source": [
        "# ***Algortimo de codificación de Huffman***"
      ],
      "metadata": {
        "id": "AADb_ASXpisL"
      }
    },
    {
      "cell_type": "code",
      "source": [
        "import heapq\n",
        "import networkx as nx\n",
        "import matplotlib.pyplot as plt\n",
        "\n",
        "class HuffmanNode:\n",
        "    def __init__(self, char, freq):\n",
        "        self.char = char\n",
        "        self.freq = freq\n",
        "        self.left = None\n",
        "        self.right = None\n",
        "\n",
        "    def __lt__(self, other):\n",
        "        return self.freq < other.freq\n",
        "\n",
        "def huffman_tree_build(data):\n",
        "    frequencies = {}\n",
        "    for char in data:\n",
        "        if char in frequencies:\n",
        "            frequencies[char] += 1\n",
        "        else:\n",
        "            frequencies[char] = 1\n",
        "\n",
        "    leaf_nodes = [HuffmanNode(char, freq) for char, freq in frequencies.items()]\n",
        "\n",
        "    heapq.heapify(leaf_nodes)\n",
        "    while len(leaf_nodes) > 1:\n",
        "        left_node = heapq.heappop(leaf_nodes)\n",
        "        right_node = heapq.heappop(leaf_nodes)\n",
        "        parent_node = HuffmanNode(None, left_node.freq + right_node.freq)\n",
        "        parent_node.left = left_node\n",
        "        parent_node.right = right_node\n",
        "        heapq.heappush(leaf_nodes, parent_node)\n",
        "\n",
        "    return leaf_nodes[0]\n",
        "\n",
        "def huffman_tree_draw(node, ax, x, y, dx, dy):\n",
        "    if node.char is not None:\n",
        "        ax.text(x, y, str(node.char), ha='center', va='center')\n",
        "    else:\n",
        "        ax.text(x, y, str(node.freq), ha='center', va='center')\n",
        "\n",
        "    if node.left is not None:\n",
        "        ax.plot([x, x - dx], [y, y - dy], 'k-')\n",
        "        huffman_tree_draw(node.left, ax, x - dx, y - dy, dx / 2, dy)\n",
        "    if node.right is not None:\n",
        "        ax.plot([x, x + dx], [y, y - dy], 'k-')\n",
        "        huffman_tree_draw(node.right, ax, x + dx, y - dy, dx / 2, dy)\n",
        "\n",
        "def huffman_encoding(data):\n",
        "    root = huffman_tree_build(data)\n",
        "\n",
        "    fig, ax = plt.subplots(figsize=(6, 6))\n",
        "    huffman_tree_draw(root, ax, 0, 0, 1, 1)\n",
        "    ax.axis('off')\n",
        "    plt.show()\n",
        "\n",
        "data = \"david rojas\"\n",
        "huffman_encoding(data)\n"
      ],
      "metadata": {
        "id": "2kurWwKMh4yn"
      },
      "execution_count": null,
      "outputs": []
    },
    {
      "cell_type": "markdown",
      "source": [
        "# ***Algoritmo de Kruskal***"
      ],
      "metadata": {
        "id": "bkPQQi4cpsXz"
      }
    },
    {
      "cell_type": "code",
      "source": [
        "import networkx as nx\n",
        "import matplotlib.pyplot as plt\n",
        "\n",
        "class DisjointSet:\n",
        "    def __init__(self, size):\n",
        "        self.parent = list(range(size))\n",
        "        self.rank = [0] * size\n",
        "\n",
        "    def union(self, x, y):\n",
        "        x_root = self.find(x)\n",
        "        y_root = self.find(y)\n",
        "\n",
        "        if self.rank[x_root] < self.rank[y_root]:\n",
        "            self.parent[x_root] = y_root\n",
        "        elif self.rank[x_root] > self.rank[y_root]:\n",
        "            self.parent[y_root] = x_root\n",
        "        else:\n",
        "            self.parent[y_root] = x_root\n",
        "            self.rank[x_root] += 1\n",
        "\n",
        "    def find(self, x):\n",
        "        if self.parent[x] != x:\n",
        "            self.parent[x] = self.find(self.parent[x])\n",
        "        return self.parent[x]\n",
        "\n",
        "def kruskal_algorithm(graph):\n",
        "    graph = graph.copy()\n",
        "\n",
        "    edges = sorted(graph.edges(data=True), key=lambda x: x[2]['weight'])\n",
        "\n",
        "    disjoint_set = DisjointSet(len(graph.nodes()))\n",
        "\n",
        "    minimum_spanning_tree = nx.Graph()\n",
        "\n",
        "    for edge in edges:\n",
        "        u, v, weight = edge\n",
        "\n",
        "        if disjoint_set.find(u) != disjoint_set.find(v):\n",
        "            disjoint_set.union(u, v)\n",
        "            minimum_spanning_tree.add_edge(u, v, weight=weight['weight'])\n",
        "\n",
        "    return minimum_spanning_tree\n",
        "\n",
        "G = nx.Graph()\n",
        "G.add_edges_from([(0, 1, {'weight': 4}), (0, 2, {'weight': 1}), (1, 2, {'weight': 2}), (1, 3, {'weight': 5}),\n",
        "                  (2, 3, {'weight': 1}), (2, 4, {'weight': 3}), (3, 4, {'weight': 2})])\n",
        "\n",
        "minimum_spanning_tree = kruskal_algorithm(G)\n",
        "\n",
        "pos = nx.spring_layout(G)\n",
        "nx.draw(G, pos, with_labels=True, node_color='lightblue')\n",
        "nx.draw_networkx_edges(minimum_spanning_tree, pos, edge_color='red', width=2)\n",
        "plt.show()\n"
      ],
      "metadata": {
        "id": "S3inGC_jk1OR"
      },
      "execution_count": null,
      "outputs": []
    },
    {
      "cell_type": "markdown",
      "source": [
        "# ***Criba de Eratótenes***"
      ],
      "metadata": {
        "id": "pp9Mr2KMpz9D"
      }
    },
    {
      "cell_type": "code",
      "source": [
        "def criba_de_eratosthenes(n):\n",
        "    primes = [True] * (n + 1)\n",
        "    primes[0] = primes[1] = False\n",
        "\n",
        "    p = 2\n",
        "    while p * p <= n:\n",
        "        if primes[p]:\n",
        "            for i in range(p * p, n + 1, p):\n",
        "                primes[i] = False\n",
        "        p += 1\n",
        "\n",
        "    return [i for i in range(n + 1) if primes[i]]\n",
        "\n",
        "n = 10000\n",
        "prime_numbers = criba_de_eratosthenes(n)\n",
        "print(\"Los números primos hasta\", n, \"son:\", prime_numbers)"
      ],
      "metadata": {
        "id": "lUuof2Wklfpn"
      },
      "execution_count": null,
      "outputs": []
    },
    {
      "cell_type": "markdown",
      "source": [
        "# ***Algoritmo del MCD***"
      ],
      "metadata": {
        "id": "3fZvG7H0p3O7"
      }
    },
    {
      "cell_type": "code",
      "source": [
        "def mcd(a, b):\n",
        "    while b != 0:\n",
        "        a, b = b, a % b\n",
        "    return a\n",
        "\n",
        "num1 = 30\n",
        "num2 = 58\n",
        "\n",
        "resultado = mcd(num1, num2)\n",
        "print(\"El MCD de\", num1, \"y\", num2, \"es:\", resultado)"
      ],
      "metadata": {
        "id": "nEsOK52KnTId"
      },
      "execution_count": null,
      "outputs": []
    },
    {
      "cell_type": "markdown",
      "source": [
        "# ***Algortimo extendido de Euclides***"
      ],
      "metadata": {
        "id": "1j5fMl0Rp6a1"
      }
    },
    {
      "cell_type": "code",
      "source": [
        "def extended_euclidean_algorithm(a, b):\n",
        "    if b == 0:\n",
        "        return a, 1, 0\n",
        "\n",
        "    gcd, x1, y1 = extended_euclidean_algorithm(b, a % b)\n",
        "    x = y1\n",
        "    y = x1 - (a // b) * y1\n",
        "\n",
        "    return gcd, x, y\n",
        "\n",
        "num1 = 138\n",
        "num2 = 426\n",
        "\n",
        "gcd, x, y = extended_euclidean_algorithm(num1, num2)\n",
        "print(\"El máximo común divisor de\", num1, \"y\", num2, \"es:\", gcd)\n",
        "print(\"Los coeficientes x y y para la ecuación\", num1, \"* x +\", num2, \"* y = gcd son:\", x, \"y\", y)\n"
      ],
      "metadata": {
        "id": "pLj741x_oSAH"
      },
      "execution_count": null,
      "outputs": []
    }
  ]
}